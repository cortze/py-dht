{
 "cells": [
  {
   "cell_type": "code",
   "execution_count": 13,
   "metadata": {
    "collapsed": true,
    "ExecuteTime": {
     "end_time": "2023-07-27T07:57:59.361664308Z",
     "start_time": "2023-07-27T07:57:59.320931523Z"
    }
   },
   "outputs": [],
   "source": [
    "import os\n",
    "import pandas as pd\n",
    "from IPython.display import display\n",
    "\n",
    "CSV_DIR = './csvs'\n",
    "FIR_DIR = './figs'"
   ]
  },
  {
   "cell_type": "code",
   "execution_count": 9,
   "outputs": [],
   "source": [
    "# dependencies\n",
    "def create_folder(self, path: str):\n",
    "    try:\n",
    "        os.mkdir(path)\n",
    "    except FileExistsError:\n",
    "        pass\n"
   ],
   "metadata": {
    "collapsed": false,
    "ExecuteTime": {
     "end_time": "2023-07-27T07:54:08.797255423Z",
     "start_time": "2023-07-27T07:54:08.794340671Z"
    }
   }
  },
  {
   "cell_type": "code",
   "execution_count": 17,
   "outputs": [
    {
     "name": "stdout",
     "output_type": "stream",
     "text": [
      "test_routing_retrieve_rt\n"
     ]
    },
    {
     "data": {
      "text/plain": "     start_time   finish_time  task_prep_time    duration_s  failed\n0  1.690442e+09  1.690442e+09   -1.690442e+09  1.690442e+09    True\n1  1.690442e+09  1.690442e+09   -1.690442e+09  1.690442e+09    True\n2  1.690442e+09  1.690442e+09   -1.690442e+09  1.690442e+09    True\n3  1.690442e+09  1.690442e+09   -1.690442e+09  1.690442e+09    True\n4  1.690442e+09  1.690442e+09   -1.690442e+09  1.690442e+09    True\n5  1.690442e+09  1.690442e+09   -1.690442e+09  1.690442e+09    True\n6  1.690442e+09  1.690442e+09   -1.690442e+09  1.690442e+09    True\n7  1.690442e+09  1.690442e+09   -1.690442e+09  1.690442e+09    True\n8  1.690442e+09  1.690442e+09   -1.690442e+09  1.690442e+09    True\n9  1.690442e+09  1.690442e+09   -1.690442e+09  1.690442e+09    True",
      "text/html": "<div>\n<style scoped>\n    .dataframe tbody tr th:only-of-type {\n        vertical-align: middle;\n    }\n\n    .dataframe tbody tr th {\n        vertical-align: top;\n    }\n\n    .dataframe thead th {\n        text-align: right;\n    }\n</style>\n<table border=\"1\" class=\"dataframe\">\n  <thead>\n    <tr style=\"text-align: right;\">\n      <th></th>\n      <th>start_time</th>\n      <th>finish_time</th>\n      <th>task_prep_time</th>\n      <th>duration_s</th>\n      <th>failed</th>\n    </tr>\n  </thead>\n  <tbody>\n    <tr>\n      <th>0</th>\n      <td>1.690442e+09</td>\n      <td>1.690442e+09</td>\n      <td>-1.690442e+09</td>\n      <td>1.690442e+09</td>\n      <td>True</td>\n    </tr>\n    <tr>\n      <th>1</th>\n      <td>1.690442e+09</td>\n      <td>1.690442e+09</td>\n      <td>-1.690442e+09</td>\n      <td>1.690442e+09</td>\n      <td>True</td>\n    </tr>\n    <tr>\n      <th>2</th>\n      <td>1.690442e+09</td>\n      <td>1.690442e+09</td>\n      <td>-1.690442e+09</td>\n      <td>1.690442e+09</td>\n      <td>True</td>\n    </tr>\n    <tr>\n      <th>3</th>\n      <td>1.690442e+09</td>\n      <td>1.690442e+09</td>\n      <td>-1.690442e+09</td>\n      <td>1.690442e+09</td>\n      <td>True</td>\n    </tr>\n    <tr>\n      <th>4</th>\n      <td>1.690442e+09</td>\n      <td>1.690442e+09</td>\n      <td>-1.690442e+09</td>\n      <td>1.690442e+09</td>\n      <td>True</td>\n    </tr>\n    <tr>\n      <th>5</th>\n      <td>1.690442e+09</td>\n      <td>1.690442e+09</td>\n      <td>-1.690442e+09</td>\n      <td>1.690442e+09</td>\n      <td>True</td>\n    </tr>\n    <tr>\n      <th>6</th>\n      <td>1.690442e+09</td>\n      <td>1.690442e+09</td>\n      <td>-1.690442e+09</td>\n      <td>1.690442e+09</td>\n      <td>True</td>\n    </tr>\n    <tr>\n      <th>7</th>\n      <td>1.690442e+09</td>\n      <td>1.690442e+09</td>\n      <td>-1.690442e+09</td>\n      <td>1.690442e+09</td>\n      <td>True</td>\n    </tr>\n    <tr>\n      <th>8</th>\n      <td>1.690442e+09</td>\n      <td>1.690442e+09</td>\n      <td>-1.690442e+09</td>\n      <td>1.690442e+09</td>\n      <td>True</td>\n    </tr>\n    <tr>\n      <th>9</th>\n      <td>1.690442e+09</td>\n      <td>1.690442e+09</td>\n      <td>-1.690442e+09</td>\n      <td>1.690442e+09</td>\n      <td>True</td>\n    </tr>\n  </tbody>\n</table>\n</div>"
     },
     "metadata": {},
     "output_type": "display_data"
    },
    {
     "name": "stdout",
     "output_type": "stream",
     "text": [
      "test_routing_new_discv_node\n"
     ]
    },
    {
     "data": {
      "text/plain": "     start_time   finish_time  task_prep_time  duration_s  failed\n0  1.690443e+09  1.690443e+09        3.829946    0.000200   False\n1  1.690443e+09  1.690443e+09        3.888254    0.000198   False\n2  1.690443e+09  1.690443e+09        3.905197    0.000199   False\n3  1.690443e+09  1.690443e+09        3.864532    0.000201   False\n4  1.690443e+09  1.690443e+09        3.880029    0.000202   False\n5  1.690443e+09  1.690443e+09        3.907396    0.000200   False\n6  1.690443e+09  1.690443e+09        3.876650    0.000197   False\n7  1.690443e+09  1.690443e+09        3.898253    0.000197   False\n8  1.690443e+09  1.690443e+09        3.827572    0.000191   False\n9  1.690443e+09  1.690443e+09        3.785142    0.000190   False",
      "text/html": "<div>\n<style scoped>\n    .dataframe tbody tr th:only-of-type {\n        vertical-align: middle;\n    }\n\n    .dataframe tbody tr th {\n        vertical-align: top;\n    }\n\n    .dataframe thead th {\n        text-align: right;\n    }\n</style>\n<table border=\"1\" class=\"dataframe\">\n  <thead>\n    <tr style=\"text-align: right;\">\n      <th></th>\n      <th>start_time</th>\n      <th>finish_time</th>\n      <th>task_prep_time</th>\n      <th>duration_s</th>\n      <th>failed</th>\n    </tr>\n  </thead>\n  <tbody>\n    <tr>\n      <th>0</th>\n      <td>1.690443e+09</td>\n      <td>1.690443e+09</td>\n      <td>3.829946</td>\n      <td>0.000200</td>\n      <td>False</td>\n    </tr>\n    <tr>\n      <th>1</th>\n      <td>1.690443e+09</td>\n      <td>1.690443e+09</td>\n      <td>3.888254</td>\n      <td>0.000198</td>\n      <td>False</td>\n    </tr>\n    <tr>\n      <th>2</th>\n      <td>1.690443e+09</td>\n      <td>1.690443e+09</td>\n      <td>3.905197</td>\n      <td>0.000199</td>\n      <td>False</td>\n    </tr>\n    <tr>\n      <th>3</th>\n      <td>1.690443e+09</td>\n      <td>1.690443e+09</td>\n      <td>3.864532</td>\n      <td>0.000201</td>\n      <td>False</td>\n    </tr>\n    <tr>\n      <th>4</th>\n      <td>1.690443e+09</td>\n      <td>1.690443e+09</td>\n      <td>3.880029</td>\n      <td>0.000202</td>\n      <td>False</td>\n    </tr>\n    <tr>\n      <th>5</th>\n      <td>1.690443e+09</td>\n      <td>1.690443e+09</td>\n      <td>3.907396</td>\n      <td>0.000200</td>\n      <td>False</td>\n    </tr>\n    <tr>\n      <th>6</th>\n      <td>1.690443e+09</td>\n      <td>1.690443e+09</td>\n      <td>3.876650</td>\n      <td>0.000197</td>\n      <td>False</td>\n    </tr>\n    <tr>\n      <th>7</th>\n      <td>1.690443e+09</td>\n      <td>1.690443e+09</td>\n      <td>3.898253</td>\n      <td>0.000197</td>\n      <td>False</td>\n    </tr>\n    <tr>\n      <th>8</th>\n      <td>1.690443e+09</td>\n      <td>1.690443e+09</td>\n      <td>3.827572</td>\n      <td>0.000191</td>\n      <td>False</td>\n    </tr>\n    <tr>\n      <th>9</th>\n      <td>1.690443e+09</td>\n      <td>1.690443e+09</td>\n      <td>3.785142</td>\n      <td>0.000190</td>\n      <td>False</td>\n    </tr>\n  </tbody>\n</table>\n</div>"
     },
     "metadata": {},
     "output_type": "display_data"
    },
    {
     "name": "stdout",
     "output_type": "stream",
     "text": [
      "test_routing_closest_to_hash\n"
     ]
    },
    {
     "data": {
      "text/plain": "     start_time   finish_time  task_prep_time  duration_s  failed\n0  1.690443e+09  1.690443e+09        3.860160    0.000017   False\n1  1.690443e+09  1.690443e+09        3.829029    0.000016   False\n2  1.690443e+09  1.690443e+09        3.843800    0.000030   False\n3  1.690443e+09  1.690443e+09        3.865146    0.000015   False\n4  1.690443e+09  1.690443e+09        3.889319    0.000018   False\n5  1.690443e+09  1.690443e+09        3.920151    0.000018   False\n6  1.690443e+09  1.690443e+09        3.869149    0.000028   False\n7  1.690443e+09  1.690443e+09        3.862963    0.000015   False\n8  1.690443e+09  1.690443e+09        3.887517    0.000013   False\n9  1.690443e+09  1.690443e+09        3.921648    0.000013   False",
      "text/html": "<div>\n<style scoped>\n    .dataframe tbody tr th:only-of-type {\n        vertical-align: middle;\n    }\n\n    .dataframe tbody tr th {\n        vertical-align: top;\n    }\n\n    .dataframe thead th {\n        text-align: right;\n    }\n</style>\n<table border=\"1\" class=\"dataframe\">\n  <thead>\n    <tr style=\"text-align: right;\">\n      <th></th>\n      <th>start_time</th>\n      <th>finish_time</th>\n      <th>task_prep_time</th>\n      <th>duration_s</th>\n      <th>failed</th>\n    </tr>\n  </thead>\n  <tbody>\n    <tr>\n      <th>0</th>\n      <td>1.690443e+09</td>\n      <td>1.690443e+09</td>\n      <td>3.860160</td>\n      <td>0.000017</td>\n      <td>False</td>\n    </tr>\n    <tr>\n      <th>1</th>\n      <td>1.690443e+09</td>\n      <td>1.690443e+09</td>\n      <td>3.829029</td>\n      <td>0.000016</td>\n      <td>False</td>\n    </tr>\n    <tr>\n      <th>2</th>\n      <td>1.690443e+09</td>\n      <td>1.690443e+09</td>\n      <td>3.843800</td>\n      <td>0.000030</td>\n      <td>False</td>\n    </tr>\n    <tr>\n      <th>3</th>\n      <td>1.690443e+09</td>\n      <td>1.690443e+09</td>\n      <td>3.865146</td>\n      <td>0.000015</td>\n      <td>False</td>\n    </tr>\n    <tr>\n      <th>4</th>\n      <td>1.690443e+09</td>\n      <td>1.690443e+09</td>\n      <td>3.889319</td>\n      <td>0.000018</td>\n      <td>False</td>\n    </tr>\n    <tr>\n      <th>5</th>\n      <td>1.690443e+09</td>\n      <td>1.690443e+09</td>\n      <td>3.920151</td>\n      <td>0.000018</td>\n      <td>False</td>\n    </tr>\n    <tr>\n      <th>6</th>\n      <td>1.690443e+09</td>\n      <td>1.690443e+09</td>\n      <td>3.869149</td>\n      <td>0.000028</td>\n      <td>False</td>\n    </tr>\n    <tr>\n      <th>7</th>\n      <td>1.690443e+09</td>\n      <td>1.690443e+09</td>\n      <td>3.862963</td>\n      <td>0.000015</td>\n      <td>False</td>\n    </tr>\n    <tr>\n      <th>8</th>\n      <td>1.690443e+09</td>\n      <td>1.690443e+09</td>\n      <td>3.887517</td>\n      <td>0.000013</td>\n      <td>False</td>\n    </tr>\n    <tr>\n      <th>9</th>\n      <td>1.690443e+09</td>\n      <td>1.690443e+09</td>\n      <td>3.921648</td>\n      <td>0.000013</td>\n      <td>False</td>\n    </tr>\n  </tbody>\n</table>\n</div>"
     },
     "metadata": {},
     "output_type": "display_data"
    },
    {
     "name": "stdout",
     "output_type": "stream",
     "text": [
      "test_network_n_initialization\n"
     ]
    },
    {
     "data": {
      "text/plain": "     start_time   finish_time  task_prep_time  duration_s  failed\n0  1.690443e+09  1.690443e+09        0.000024    0.045659   False\n1  1.690443e+09  1.690443e+09        0.000032    0.060369   False\n2  1.690443e+09  1.690443e+09        0.000023    0.061265   False\n3  1.690443e+09  1.690443e+09        0.000026    0.052744   False\n4  1.690443e+09  1.690443e+09        0.000022    0.057612   False\n5  1.690443e+09  1.690443e+09        0.000019    0.058876   False\n6  1.690443e+09  1.690443e+09        0.000020    0.061815   False\n7  1.690443e+09  1.690443e+09        0.000028    0.053257   False\n8  1.690443e+09  1.690443e+09        0.000023    0.058571   False\n9  1.690443e+09  1.690443e+09        0.000019    0.060055   False",
      "text/html": "<div>\n<style scoped>\n    .dataframe tbody tr th:only-of-type {\n        vertical-align: middle;\n    }\n\n    .dataframe tbody tr th {\n        vertical-align: top;\n    }\n\n    .dataframe thead th {\n        text-align: right;\n    }\n</style>\n<table border=\"1\" class=\"dataframe\">\n  <thead>\n    <tr style=\"text-align: right;\">\n      <th></th>\n      <th>start_time</th>\n      <th>finish_time</th>\n      <th>task_prep_time</th>\n      <th>duration_s</th>\n      <th>failed</th>\n    </tr>\n  </thead>\n  <tbody>\n    <tr>\n      <th>0</th>\n      <td>1.690443e+09</td>\n      <td>1.690443e+09</td>\n      <td>0.000024</td>\n      <td>0.045659</td>\n      <td>False</td>\n    </tr>\n    <tr>\n      <th>1</th>\n      <td>1.690443e+09</td>\n      <td>1.690443e+09</td>\n      <td>0.000032</td>\n      <td>0.060369</td>\n      <td>False</td>\n    </tr>\n    <tr>\n      <th>2</th>\n      <td>1.690443e+09</td>\n      <td>1.690443e+09</td>\n      <td>0.000023</td>\n      <td>0.061265</td>\n      <td>False</td>\n    </tr>\n    <tr>\n      <th>3</th>\n      <td>1.690443e+09</td>\n      <td>1.690443e+09</td>\n      <td>0.000026</td>\n      <td>0.052744</td>\n      <td>False</td>\n    </tr>\n    <tr>\n      <th>4</th>\n      <td>1.690443e+09</td>\n      <td>1.690443e+09</td>\n      <td>0.000022</td>\n      <td>0.057612</td>\n      <td>False</td>\n    </tr>\n    <tr>\n      <th>5</th>\n      <td>1.690443e+09</td>\n      <td>1.690443e+09</td>\n      <td>0.000019</td>\n      <td>0.058876</td>\n      <td>False</td>\n    </tr>\n    <tr>\n      <th>6</th>\n      <td>1.690443e+09</td>\n      <td>1.690443e+09</td>\n      <td>0.000020</td>\n      <td>0.061815</td>\n      <td>False</td>\n    </tr>\n    <tr>\n      <th>7</th>\n      <td>1.690443e+09</td>\n      <td>1.690443e+09</td>\n      <td>0.000028</td>\n      <td>0.053257</td>\n      <td>False</td>\n    </tr>\n    <tr>\n      <th>8</th>\n      <td>1.690443e+09</td>\n      <td>1.690443e+09</td>\n      <td>0.000023</td>\n      <td>0.058571</td>\n      <td>False</td>\n    </tr>\n    <tr>\n      <th>9</th>\n      <td>1.690443e+09</td>\n      <td>1.690443e+09</td>\n      <td>0.000019</td>\n      <td>0.060055</td>\n      <td>False</td>\n    </tr>\n  </tbody>\n</table>\n</div>"
     },
     "metadata": {},
     "output_type": "display_data"
    },
    {
     "name": "stdout",
     "output_type": "stream",
     "text": [
      "test_network_node_bootstrap\n"
     ]
    },
    {
     "data": {
      "text/plain": "     start_time   finish_time  task_prep_time    duration_s  failed\n0  1.690443e+09  1.690443e+09   -1.690443e+09  1.690443e+09    True\n1  1.690443e+09  1.690443e+09   -1.690443e+09  1.690443e+09    True\n2  1.690443e+09  1.690443e+09   -1.690443e+09  1.690443e+09    True\n3  1.690443e+09  1.690443e+09   -1.690443e+09  1.690443e+09    True\n4  1.690443e+09  1.690443e+09   -1.690443e+09  1.690443e+09    True\n5  1.690443e+09  1.690443e+09   -1.690443e+09  1.690443e+09    True\n6  1.690443e+09  1.690443e+09   -1.690443e+09  1.690443e+09    True\n7  1.690443e+09  1.690443e+09    5.641866e-02  4.795088e+00   False\n8  1.690443e+09  1.690443e+09   -1.690443e+09  1.690443e+09    True\n9  1.690443e+09  1.690443e+09   -1.690443e+09  1.690443e+09    True",
      "text/html": "<div>\n<style scoped>\n    .dataframe tbody tr th:only-of-type {\n        vertical-align: middle;\n    }\n\n    .dataframe tbody tr th {\n        vertical-align: top;\n    }\n\n    .dataframe thead th {\n        text-align: right;\n    }\n</style>\n<table border=\"1\" class=\"dataframe\">\n  <thead>\n    <tr style=\"text-align: right;\">\n      <th></th>\n      <th>start_time</th>\n      <th>finish_time</th>\n      <th>task_prep_time</th>\n      <th>duration_s</th>\n      <th>failed</th>\n    </tr>\n  </thead>\n  <tbody>\n    <tr>\n      <th>0</th>\n      <td>1.690443e+09</td>\n      <td>1.690443e+09</td>\n      <td>-1.690443e+09</td>\n      <td>1.690443e+09</td>\n      <td>True</td>\n    </tr>\n    <tr>\n      <th>1</th>\n      <td>1.690443e+09</td>\n      <td>1.690443e+09</td>\n      <td>-1.690443e+09</td>\n      <td>1.690443e+09</td>\n      <td>True</td>\n    </tr>\n    <tr>\n      <th>2</th>\n      <td>1.690443e+09</td>\n      <td>1.690443e+09</td>\n      <td>-1.690443e+09</td>\n      <td>1.690443e+09</td>\n      <td>True</td>\n    </tr>\n    <tr>\n      <th>3</th>\n      <td>1.690443e+09</td>\n      <td>1.690443e+09</td>\n      <td>-1.690443e+09</td>\n      <td>1.690443e+09</td>\n      <td>True</td>\n    </tr>\n    <tr>\n      <th>4</th>\n      <td>1.690443e+09</td>\n      <td>1.690443e+09</td>\n      <td>-1.690443e+09</td>\n      <td>1.690443e+09</td>\n      <td>True</td>\n    </tr>\n    <tr>\n      <th>5</th>\n      <td>1.690443e+09</td>\n      <td>1.690443e+09</td>\n      <td>-1.690443e+09</td>\n      <td>1.690443e+09</td>\n      <td>True</td>\n    </tr>\n    <tr>\n      <th>6</th>\n      <td>1.690443e+09</td>\n      <td>1.690443e+09</td>\n      <td>-1.690443e+09</td>\n      <td>1.690443e+09</td>\n      <td>True</td>\n    </tr>\n    <tr>\n      <th>7</th>\n      <td>1.690443e+09</td>\n      <td>1.690443e+09</td>\n      <td>5.641866e-02</td>\n      <td>4.795088e+00</td>\n      <td>False</td>\n    </tr>\n    <tr>\n      <th>8</th>\n      <td>1.690443e+09</td>\n      <td>1.690443e+09</td>\n      <td>-1.690443e+09</td>\n      <td>1.690443e+09</td>\n      <td>True</td>\n    </tr>\n    <tr>\n      <th>9</th>\n      <td>1.690443e+09</td>\n      <td>1.690443e+09</td>\n      <td>-1.690443e+09</td>\n      <td>1.690443e+09</td>\n      <td>True</td>\n    </tr>\n  </tbody>\n</table>\n</div>"
     },
     "metadata": {},
     "output_type": "display_data"
    },
    {
     "name": "stdout",
     "output_type": "stream",
     "text": [
      "test_network_bootstrap_node\n"
     ]
    },
    {
     "data": {
      "text/plain": "     start_time   finish_time  task_prep_time  duration_s  failed\n0  1.690443e+09  1.690443e+09        0.053677    3.753137   False\n1  1.690443e+09  1.690443e+09        0.059540    3.854406   False\n2  1.690443e+09  1.690443e+09        0.062316    3.828262   False\n3  1.690443e+09  1.690443e+09        0.066504    3.828936   False\n4  1.690443e+09  1.690443e+09        0.055808    3.827533   False\n5  1.690443e+09  1.690443e+09        0.061926    3.908571   False\n6  1.690443e+09  1.690443e+09        0.067706    3.839658   False\n7  1.690443e+09  1.690443e+09        0.056619    3.886332   False\n8  1.690443e+09  1.690443e+09        0.057719    3.835029   False\n9  1.690443e+09  1.690443e+09        0.065192    3.851637   False",
      "text/html": "<div>\n<style scoped>\n    .dataframe tbody tr th:only-of-type {\n        vertical-align: middle;\n    }\n\n    .dataframe tbody tr th {\n        vertical-align: top;\n    }\n\n    .dataframe thead th {\n        text-align: right;\n    }\n</style>\n<table border=\"1\" class=\"dataframe\">\n  <thead>\n    <tr style=\"text-align: right;\">\n      <th></th>\n      <th>start_time</th>\n      <th>finish_time</th>\n      <th>task_prep_time</th>\n      <th>duration_s</th>\n      <th>failed</th>\n    </tr>\n  </thead>\n  <tbody>\n    <tr>\n      <th>0</th>\n      <td>1.690443e+09</td>\n      <td>1.690443e+09</td>\n      <td>0.053677</td>\n      <td>3.753137</td>\n      <td>False</td>\n    </tr>\n    <tr>\n      <th>1</th>\n      <td>1.690443e+09</td>\n      <td>1.690443e+09</td>\n      <td>0.059540</td>\n      <td>3.854406</td>\n      <td>False</td>\n    </tr>\n    <tr>\n      <th>2</th>\n      <td>1.690443e+09</td>\n      <td>1.690443e+09</td>\n      <td>0.062316</td>\n      <td>3.828262</td>\n      <td>False</td>\n    </tr>\n    <tr>\n      <th>3</th>\n      <td>1.690443e+09</td>\n      <td>1.690443e+09</td>\n      <td>0.066504</td>\n      <td>3.828936</td>\n      <td>False</td>\n    </tr>\n    <tr>\n      <th>4</th>\n      <td>1.690443e+09</td>\n      <td>1.690443e+09</td>\n      <td>0.055808</td>\n      <td>3.827533</td>\n      <td>False</td>\n    </tr>\n    <tr>\n      <th>5</th>\n      <td>1.690443e+09</td>\n      <td>1.690443e+09</td>\n      <td>0.061926</td>\n      <td>3.908571</td>\n      <td>False</td>\n    </tr>\n    <tr>\n      <th>6</th>\n      <td>1.690443e+09</td>\n      <td>1.690443e+09</td>\n      <td>0.067706</td>\n      <td>3.839658</td>\n      <td>False</td>\n    </tr>\n    <tr>\n      <th>7</th>\n      <td>1.690443e+09</td>\n      <td>1.690443e+09</td>\n      <td>0.056619</td>\n      <td>3.886332</td>\n      <td>False</td>\n    </tr>\n    <tr>\n      <th>8</th>\n      <td>1.690443e+09</td>\n      <td>1.690443e+09</td>\n      <td>0.057719</td>\n      <td>3.835029</td>\n      <td>False</td>\n    </tr>\n    <tr>\n      <th>9</th>\n      <td>1.690443e+09</td>\n      <td>1.690443e+09</td>\n      <td>0.065192</td>\n      <td>3.851637</td>\n      <td>False</td>\n    </tr>\n  </tbody>\n</table>\n</div>"
     },
     "metadata": {},
     "output_type": "display_data"
    }
   ],
   "source": [
    "# visualization\n",
    "\n",
    "for dir, subdirs, files in os.walk(CSV_DIR):\n",
    "    for file in files:\n",
    "        df = pd.read_csv(dir+'/'+file)\n",
    "        df = df.drop(columns=['Unnamed: 0', 'round'])\n",
    "        print(file)\n",
    "        display(df)\n"
   ],
   "metadata": {
    "collapsed": false,
    "ExecuteTime": {
     "end_time": "2023-07-27T07:59:20.858473598Z",
     "start_time": "2023-07-27T07:59:20.774629369Z"
    }
   }
  },
  {
   "cell_type": "code",
   "execution_count": null,
   "outputs": [],
   "source": [],
   "metadata": {
    "collapsed": false
   }
  }
 ],
 "metadata": {
  "kernelspec": {
   "display_name": "Python 3",
   "language": "python",
   "name": "python3"
  },
  "language_info": {
   "codemirror_mode": {
    "name": "ipython",
    "version": 2
   },
   "file_extension": ".py",
   "mimetype": "text/x-python",
   "name": "python",
   "nbconvert_exporter": "python",
   "pygments_lexer": "ipython2",
   "version": "2.7.6"
  }
 },
 "nbformat": 4,
 "nbformat_minor": 0
}
